{
  "nbformat": 4,
  "nbformat_minor": 0,
  "metadata": {
    "colab": {
      "provenance": [],
      "authorship_tag": "ABX9TyNYS47CBLCF1Epgega0JuF9",
      "include_colab_link": true
    },
    "kernelspec": {
      "name": "python3",
      "display_name": "Python 3"
    },
    "language_info": {
      "name": "python"
    }
  },
  "cells": [
    {
      "cell_type": "markdown",
      "metadata": {
        "id": "view-in-github",
        "colab_type": "text"
      },
      "source": [
        "<a href=\"https://colab.research.google.com/github/AdityaBavadekar/Models/blob/master/EvenNoPred_Model_01.ipynb\" target=\"_parent\"><img src=\"https://colab.research.google.com/assets/colab-badge.svg\" alt=\"Open In Colab\"/></a>"
      ]
    },
    {
      "cell_type": "code",
      "execution_count": null,
      "metadata": {
        "id": "rJagThamiYuk"
      },
      "outputs": [],
      "source": [
        "import numpy as np\n",
        "import torch"
      ]
    },
    {
      "cell_type": "code",
      "source": [
        "torch.manual_seed(42)"
      ],
      "metadata": {
        "colab": {
          "base_uri": "https://localhost:8080/"
        },
        "id": "By6Bsq67jJkz",
        "outputId": "8136f82f-906b-4c2d-8c11-abf2873ecf85"
      },
      "execution_count": null,
      "outputs": [
        {
          "output_type": "execute_result",
          "data": {
            "text/plain": [
              "<torch._C.Generator at 0x79fd08fa62b0>"
            ]
          },
          "metadata": {},
          "execution_count": 2
        }
      ]
    },
    {
      "cell_type": "markdown",
      "source": [
        "$$X_i * W_i + B_i$$\n",
        "$$F(x) = [(x)(Weights) + Biases]$$\n",
        "\n"
      ],
      "metadata": {
        "id": "vaU2E1vdmBEK"
      }
    },
    {
      "cell_type": "code",
      "source": [
        "weights = torch.randn(2, 3, requires_grad=True)\n",
        "biases = torch.randn(2, requires_grad=True)\n",
        "print(weights)\n",
        "print(biases)"
      ],
      "metadata": {
        "colab": {
          "base_uri": "https://localhost:8080/"
        },
        "id": "rPp-Hfheifld",
        "outputId": "189a89d5-402c-4f8f-973a-bf47cc732302"
      },
      "execution_count": null,
      "outputs": [
        {
          "output_type": "stream",
          "name": "stdout",
          "text": [
            "tensor([[ 0.3367,  0.1288,  0.2345],\n",
            "        [ 0.2303, -1.1229, -0.1863]], requires_grad=True)\n",
            "tensor([ 2.2082, -0.6380], requires_grad=True)\n"
          ]
        }
      ]
    },
    {
      "cell_type": "code",
      "source": [
        "features = torch.randint(0, 100, (5, 3), dtype=torch.float32)\n",
        "targets = torch.randint(0, 100, (5, 2), dtype=torch.float32)\n",
        "print(features)\n",
        "print(targets)"
      ],
      "metadata": {
        "colab": {
          "base_uri": "https://localhost:8080/"
        },
        "id": "U51LLM20j-GN",
        "outputId": "abcd2600-99f5-4507-f728-36d2a9a650eb"
      },
      "execution_count": null,
      "outputs": [
        {
          "output_type": "stream",
          "name": "stdout",
          "text": [
            "tensor([[15., 95., 67.],\n",
            "        [ 6., 49., 76.],\n",
            "        [73., 11., 99.],\n",
            "        [13., 41., 69.],\n",
            "        [87., 19., 72.]])\n",
            "tensor([[80., 75.],\n",
            "        [29., 33.],\n",
            "        [64., 39.],\n",
            "        [76., 32.],\n",
            "        [10., 86.]])\n"
          ]
        }
      ]
    },
    {
      "cell_type": "code",
      "source": [
        "len(features.T) == len(weights.T)"
      ],
      "metadata": {
        "colab": {
          "base_uri": "https://localhost:8080/"
        },
        "id": "iAg8QjmxlHHv",
        "outputId": "ca9f2f84-718e-4d15-b501-dfb2fa85f00f"
      },
      "execution_count": null,
      "outputs": [
        {
          "output_type": "execute_result",
          "data": {
            "text/plain": [
              "True"
            ]
          },
          "metadata": {},
          "execution_count": 5
        }
      ]
    },
    {
      "cell_type": "code",
      "source": [
        "features @ weights.T + biases"
      ],
      "metadata": {
        "colab": {
          "base_uri": "https://localhost:8080/"
        },
        "id": "QRXIOySgjV2f",
        "outputId": "81d159ea-ba42-40b3-d9be-f066988edbc0"
      },
      "execution_count": null,
      "outputs": [
        {
          "output_type": "execute_result",
          "data": {
            "text/plain": [
              "tensor([[  35.2044, -116.3384],\n",
              "        [  28.3591,  -68.4369],\n",
              "        [  51.4153,  -14.6216],\n",
              "        [  28.0443,  -56.5374],\n",
              "        [  50.8289,  -15.3489]], grad_fn=<AddBackward0>)"
            ]
          },
          "metadata": {},
          "execution_count": 6
        }
      ]
    },
    {
      "cell_type": "code",
      "source": [
        "features.matmul(weights.T) + biases"
      ],
      "metadata": {
        "colab": {
          "base_uri": "https://localhost:8080/"
        },
        "id": "G1QEzVjfmyS8",
        "outputId": "cb54937c-c691-4b75-e9df-b0d15faafd90"
      },
      "execution_count": null,
      "outputs": [
        {
          "output_type": "execute_result",
          "data": {
            "text/plain": [
              "tensor([[  35.2044, -116.3384],\n",
              "        [  28.3591,  -68.4369],\n",
              "        [  51.4153,  -14.6216],\n",
              "        [  28.0443,  -56.5374],\n",
              "        [  50.8289,  -15.3489]], grad_fn=<AddBackward0>)"
            ]
          },
          "metadata": {},
          "execution_count": 7
        }
      ]
    },
    {
      "cell_type": "code",
      "source": [
        "def model(x):\n",
        "  return x.matmul(weights.T) + biases"
      ],
      "metadata": {
        "id": "hNe0miHukUVw"
      },
      "execution_count": null,
      "outputs": []
    },
    {
      "cell_type": "code",
      "source": [
        "preds = model(features)\n",
        "print(preds)"
      ],
      "metadata": {
        "colab": {
          "base_uri": "https://localhost:8080/"
        },
        "id": "lIaD7oXWnINo",
        "outputId": "3062c5d5-d844-46e6-e30d-6865e968f995"
      },
      "execution_count": null,
      "outputs": [
        {
          "output_type": "stream",
          "name": "stdout",
          "text": [
            "tensor([[  35.2044, -116.3384],\n",
            "        [  28.3591,  -68.4369],\n",
            "        [  51.4153,  -14.6216],\n",
            "        [  28.0443,  -56.5374],\n",
            "        [  50.8289,  -15.3489]], grad_fn=<AddBackward0>)\n"
          ]
        }
      ]
    },
    {
      "cell_type": "code",
      "source": [
        "print(targets)"
      ],
      "metadata": {
        "colab": {
          "base_uri": "https://localhost:8080/"
        },
        "id": "dZGmjvUenJtO",
        "outputId": "9f61b82c-b5cc-4e46-fd6b-3c80f35c0ddf"
      },
      "execution_count": null,
      "outputs": [
        {
          "output_type": "stream",
          "name": "stdout",
          "text": [
            "tensor([[80., 75.],\n",
            "        [29., 33.],\n",
            "        [64., 39.],\n",
            "        [76., 32.],\n",
            "        [10., 86.]])\n"
          ]
        }
      ]
    },
    {
      "cell_type": "code",
      "source": [
        "error_matrix = preds - targets\n",
        "error_matrix"
      ],
      "metadata": {
        "colab": {
          "base_uri": "https://localhost:8080/"
        },
        "id": "utbvnmY5nR-s",
        "outputId": "68937091-0ed7-40ae-f1ab-fae012bf20f3"
      },
      "execution_count": null,
      "outputs": [
        {
          "output_type": "execute_result",
          "data": {
            "text/plain": [
              "tensor([[ -44.7956, -191.3383],\n",
              "        [  -0.6409, -101.4369],\n",
              "        [ -12.5847,  -53.6216],\n",
              "        [ -47.9557,  -88.5374],\n",
              "        [  40.8289, -101.3489]], grad_fn=<SubBackward0>)"
            ]
          },
          "metadata": {},
          "execution_count": 11
        }
      ]
    },
    {
      "cell_type": "code",
      "source": [
        "# Mean squared error\n",
        "(error_matrix*error_matrix).sum() / error_matrix.numel()"
      ],
      "metadata": {
        "colab": {
          "base_uri": "https://localhost:8080/"
        },
        "id": "7TjlrHYLp_dk",
        "outputId": "586e8466-c2db-4586-f4a6-b0191db429fa"
      },
      "execution_count": null,
      "outputs": [
        {
          "output_type": "execute_result",
          "data": {
            "text/plain": [
              "tensor(7401.7749, grad_fn=<DivBackward0>)"
            ]
          },
          "metadata": {},
          "execution_count": 12
        }
      ]
    },
    {
      "cell_type": "code",
      "source": [
        "def mse(a, b):\n",
        "  '''Mean squared error'''\n",
        "  error = a - b\n",
        "  return (error * error).sum() / error.numel()\n"
      ],
      "metadata": {
        "id": "bXikGItVqdYo"
      },
      "execution_count": null,
      "outputs": []
    },
    {
      "cell_type": "code",
      "source": [
        "loss = mse(preds, targets)\n",
        "print(loss)"
      ],
      "metadata": {
        "colab": {
          "base_uri": "https://localhost:8080/"
        },
        "id": "5oYvOgG7qpSR",
        "outputId": "58df4301-ac29-47a0-de30-93687e6e941a"
      },
      "execution_count": null,
      "outputs": [
        {
          "output_type": "stream",
          "name": "stdout",
          "text": [
            "tensor(7401.7749, grad_fn=<DivBackward0>)\n"
          ]
        }
      ]
    },
    {
      "cell_type": "code",
      "source": [
        "# Compute gradients\n",
        "loss.backward()"
      ],
      "metadata": {
        "id": "1sfs-PXFraPf"
      },
      "execution_count": null,
      "outputs": []
    },
    {
      "cell_type": "code",
      "source": [
        "# Gradients\n",
        "print('Weights:')\n",
        "print(weights)\n",
        "print('Grad:')\n",
        "print(weights.grad)"
      ],
      "metadata": {
        "colab": {
          "base_uri": "https://localhost:8080/"
        },
        "id": "3P2K7yahrdso",
        "outputId": "f5e4aec2-a9cc-4fdc-f427-836a6e9486fd"
      },
      "execution_count": null,
      "outputs": [
        {
          "output_type": "stream",
          "name": "stdout",
          "text": [
            "Weights:\n",
            "tensor([[ 0.3367,  0.1288,  0.2345],\n",
            "        [ 0.2303, -1.1229, -0.1863]], requires_grad=True)\n",
            "Grad:\n",
            "tensor([[  266.8459, -1123.1698,  -933.0316],\n",
            "        [-3472.2837, -5858.6108, -7848.7241]])\n"
          ]
        }
      ]
    },
    {
      "cell_type": "code",
      "source": [
        "c = 1e-8\n",
        "with torch.no_grad():\n",
        "  weights -= weights.grad * c\n",
        "  biases -= biases.grad * c"
      ],
      "metadata": {
        "id": "CyH_PoOQwxW_"
      },
      "execution_count": null,
      "outputs": []
    },
    {
      "cell_type": "code",
      "source": [
        "print('Weights:')\n",
        "print(weights)\n",
        "print('Biases:')\n",
        "print(biases)"
      ],
      "metadata": {
        "id": "YhLHLPt7xHwO",
        "colab": {
          "base_uri": "https://localhost:8080/"
        },
        "outputId": "0f6c74af-6811-4cd2-9b6b-ebeab1fddfa1"
      },
      "execution_count": null,
      "outputs": [
        {
          "output_type": "stream",
          "name": "stdout",
          "text": [
            "Weights:\n",
            "tensor([[ 0.3367,  0.1288,  0.2345],\n",
            "        [ 0.2304, -1.1227, -0.1862]], requires_grad=True)\n",
            "Biases:\n",
            "tensor([ 2.2082, -0.6380], requires_grad=True)\n"
          ]
        }
      ]
    },
    {
      "cell_type": "code",
      "source": [
        "# Gradients\n",
        "print('Biases:')\n",
        "print(biases)\n",
        "print('Grad:')\n",
        "print(biases.grad)"
      ],
      "metadata": {
        "colab": {
          "base_uri": "https://localhost:8080/"
        },
        "id": "RGLfLRJSunCw",
        "outputId": "8cbf7171-a804-471a-a169-e05ca2f4dbae"
      },
      "execution_count": null,
      "outputs": [
        {
          "output_type": "stream",
          "name": "stdout",
          "text": [
            "Biases:\n",
            "tensor([ 2.2082, -0.6380], requires_grad=True)\n",
            "Grad:\n",
            "tensor([ -13.0296, -107.2566])\n"
          ]
        }
      ]
    },
    {
      "cell_type": "code",
      "source": [
        "import matplotlib.pyplot as plt\n",
        "\n",
        "# https://stackoverflow.com/questions/61288116/visualizing-weights-of-trained-neural-network-in-keras\n",
        "\n",
        "print('Initial Weights')\n",
        "plt.imshow(weights.detach())\n",
        "plt.show()\n",
        "\n",
        "print('Grad Weights')\n",
        "plt.imshow(weights.grad.detach())\n",
        "plt.show()"
      ],
      "metadata": {
        "colab": {
          "base_uri": "https://localhost:8080/",
          "height": 810
        },
        "id": "RsVkQl0Ftz3n",
        "outputId": "88bc4b10-52bf-4f2c-f228-a6c2ef877ecb"
      },
      "execution_count": null,
      "outputs": [
        {
          "output_type": "stream",
          "name": "stdout",
          "text": [
            "Initial Weights\n"
          ]
        },
        {
          "output_type": "display_data",
          "data": {
            "text/plain": [
              "<Figure size 640x480 with 1 Axes>"
            ],
            "image/png": "[encoded data removed]"
          },
          "metadata": {}
        },
        {
          "output_type": "stream",
          "name": "stdout",
          "text": [
            "Grad Weights\n"
          ]
        },
        {
          "output_type": "display_data",
          "data": {
            "text/plain": [
              "<Figure size 640x480 with 1 Axes>"
            ],
            "image/png": "[encoded data removed]"
          },
          "metadata": {}
        }
      ]
    },
    {
      "cell_type": "code",
      "source": [
        "# @title Element Wise Multitplication\n",
        "torch.tensor(\n",
        "    [\n",
        "      [1,2],\n",
        "      [3,4]\n",
        "    ]\n",
        ") * torch.tensor(\n",
        "    [\n",
        "      [1,2],\n",
        "      [3,4]\n",
        "    ]\n",
        ")"
      ],
      "metadata": {
        "colab": {
          "base_uri": "https://localhost:8080/"
        },
        "cellView": "form",
        "id": "5h6isAsOnotN",
        "outputId": "5587c7eb-d8c2-44d2-858a-8080dbeefb1e"
      },
      "execution_count": null,
      "outputs": [
        {
          "output_type": "execute_result",
          "data": {
            "text/plain": [
              "tensor([[ 1,  4],\n",
              "        [ 9, 16]])"
            ]
          },
          "metadata": {},
          "execution_count": 22
        }
      ]
    },
    {
      "cell_type": "code",
      "source": [
        "# @title Matrix Multitplication\n",
        "torch.tensor(\n",
        "    [\n",
        "      [1,2],\n",
        "      [3,4]\n",
        "    ]\n",
        ") @ torch.tensor(\n",
        "    [\n",
        "      [1,2],\n",
        "      [3,4]\n",
        "    ]\n",
        ")"
      ],
      "metadata": {
        "colab": {
          "base_uri": "https://localhost:8080/"
        },
        "cellView": "form",
        "id": "K-pZg2ZWoAv0",
        "outputId": "9eed7263-5576-42eb-a49b-f1c3b711cdfd"
      },
      "execution_count": null,
      "outputs": [
        {
          "output_type": "execute_result",
          "data": {
            "text/plain": [
              "tensor([[ 7, 10],\n",
              "        [15, 22]])"
            ]
          },
          "metadata": {},
          "execution_count": 23
        }
      ]
    },
    {
      "cell_type": "code",
      "source": [
        "inputs = torch.tensor(\n",
        "    [\n",
        "        [2,4,6,8],\n",
        "        [0,2,4,6],\n",
        "        [30,32,34,38],\n",
        "        [100,102,104,106],\n",
        "        [346,348,350,352],\n",
        "        [56,58,60,62],\n",
        "        [94,96,98,100],\n",
        "        [12, 14, 16, 18],\n",
        "        [48, 50, 52, 54],\n",
        "        [128, 130, 132, 134]\n",
        "    ],\n",
        "    dtype=torch.float32\n",
        ")\n",
        "\n",
        "inputs = torch.tensor(\n",
        "    [\n",
        "        [2, 4, 6, 8],\n",
        "        [0, 2, 4, 6],\n",
        "        [30, 32, 34, 36],\n",
        "        [100, 102, 104, 106],\n",
        "        [346, 348, 350, 352],\n",
        "        [56, 58, 60, 62],\n",
        "        [94, 96, 98, 100],\n",
        "        [12, 14, 16, 18],\n",
        "        [48, 50, 52, 54],\n",
        "        [128, 130, 132, 134],\n",
        "        [10, 12, 14, 16],\n",
        "        [20, 22, 24, 26],\n",
        "        [110, 112, 114, 116],\n",
        "        [76, 78, 80, 82],\n",
        "        [196, 198, 200, 202],\n",
        "        [8, 10, 12, 14],\n",
        "        [18, 20, 22, 24],\n",
        "        [200, 202, 204, 206],\n",
        "        [60, 62, 64, 66],\n",
        "        [140, 142, 144, 146],\n",
        "        [16, 18, 20, 22],\n",
        "        [26, 28, 30, 32],\n",
        "        [190, 192, 194, 196],\n",
        "        [70, 72, 74, 76],\n",
        "        [210, 212, 214, 216],\n",
        "        [6, 8, 10, 12],\n",
        "        [36, 38, 40, 42],\n",
        "        [180, 182, 184, 186],\n",
        "        [50, 52, 54, 56],\n",
        "        [156, 158, 160, 162]\n",
        "    ],\n",
        "    dtype=torch.float32\n",
        ")\n",
        "\n",
        "targets = torch.tensor(\n",
        "    [\n",
        "        10,\n",
        "        8,\n",
        "        38,\n",
        "        108,\n",
        "        354,\n",
        "        64,\n",
        "        102,\n",
        "        20,\n",
        "        56,\n",
        "        136,\n",
        "        18,\n",
        "        28,\n",
        "        118,\n",
        "        84,\n",
        "        206,\n",
        "        16,\n",
        "        26,\n",
        "        208,\n",
        "        68,\n",
        "        148,\n",
        "        24,\n",
        "        34,\n",
        "        198,\n",
        "        78,\n",
        "        218,\n",
        "        14,\n",
        "        42,\n",
        "        188,\n",
        "        58,\n",
        "        164\n",
        "    ],\n",
        "    dtype=torch.float32\n",
        ")"
      ],
      "metadata": {
        "id": "f1Mb15KpwpqD"
      },
      "execution_count": null,
      "outputs": []
    },
    {
      "cell_type": "code",
      "source": [
        "class L1():\n",
        "  def __init__(self, input_shape, output_shape) -> None:\n",
        "    self.weights = torch.randn(input_shape, requires_grad=True)\n",
        "    self.biases = torch.randn(output_shape, requires_grad=True)\n",
        "\n",
        "  def zero_grads(self):\n",
        "      self.weights.grad.zero_()\n",
        "      self.biases.grad.zero_()\n",
        "\n",
        "  def forward(self, x):\n",
        "    return x.matmul(self.weights.T) + self.biases\n",
        "\n",
        "  def update_weights_biases(self, lr):\n",
        "    with torch.no_grad():\n",
        "      self.weights -= self.weights.grad * lr\n",
        "      self.biases -= self.biases.grad * lr\n",
        "\n",
        "      self.weights.grad.zero_()\n",
        "      self.biases.grad.zero_()\n",
        "\n",
        "\n",
        "class Model():\n",
        "\n",
        "  def __init__(self, lr=1e-8) -> None:\n",
        "    self.lr = lr\n",
        "    self.layers = [\n",
        "        L1((1,4), 1),\n",
        "        L1(1, 1),\n",
        "        L1(1, 4),\n",
        "        L1(4, 16),\n",
        "        L1(16, 1),\n",
        "    ]\n",
        "\n",
        "  def forward(self, x):\n",
        "    logits = x\n",
        "    for l in self.layers:\n",
        "      logits = l.forward(logits)\n",
        "    return logits\n",
        "\n",
        "  def train_step(self, x, y):\n",
        "    preds = self.forward(x)\n",
        "\n",
        "    loss = mse(preds, y)\n",
        "    loss.backward()\n",
        "\n",
        "    for l in self.layers:\n",
        "      l.update_weights_biases(lr=self.lr)\n",
        "\n",
        "    return loss.item()\n",
        "\n",
        "  def eval(self, x):\n",
        "    with torch.no_grad():\n",
        "      return self.forward(x)\n",
        "\n",
        "  def __repr__(self) -> str:\n",
        "    return  '\\n'.join([\n",
        "        f'{type(self).__name__}(',\n",
        "        '  ' + ',\\n  '.join([type(l).__name__ for l in self.layers]),\n",
        "        ')'\n",
        "     ])"
      ],
      "metadata": {
        "id": "6UulCDWOwQJC"
      },
      "execution_count": null,
      "outputs": []
    },
    {
      "cell_type": "code",
      "source": [
        "def train(model, inputs, targets, epochs=100):\n",
        "  run_losses = []\n",
        "  for t in range(epochs):\n",
        "    loss = []\n",
        "    for i in range(len(inputs)):\n",
        "      loss.append(model.train_step(inputs[i], targets[i]))\n",
        "    run_losses.append(np.mean(loss))\n",
        "    if t % 10 == 0 or t+1 == epochs:\n",
        "      print(f'Epoch {t+1: ^3}/{epochs}, Loss:', run_losses[-1])\n",
        "\n",
        "  print('Done.')\n",
        "\n",
        "  return run_losses"
      ],
      "metadata": {
        "id": "QEiwrqPCvKeM"
      },
      "execution_count": null,
      "outputs": []
    },
    {
      "cell_type": "markdown",
      "source": [
        "After experimenting with various learning rates right from 1e-6 to 2e-9, I found a perfect match, but it is surely possible that next time this is executed without even changing any part of code, the loss might not reach 0, 1, or 2."
      ],
      "metadata": {
        "id": "9Bt1yr7SJm88"
      }
    },
    {
      "cell_type": "code",
      "source": [
        "model = Model(1.77e-7)\n",
        "losses = train(model, inputs, targets, epochs=100)"
      ],
      "metadata": {
        "colab": {
          "base_uri": "https://localhost:8080/"
        },
        "id": "2VaStexOvY--",
        "outputId": "5ec72d85-e3c6-4ed1-8667-d8b6be126fc6"
      },
      "execution_count": null,
      "outputs": [
        {
          "output_type": "stream",
          "name": "stdout",
          "text": [
            "Epoch  1 /100, Loss: 11810.33954744339\n",
            "Epoch 11 /100, Loss: 1.0387437218955407\n",
            "Epoch 21 /100, Loss: 1.0217601512325927\n",
            "Epoch 31 /100, Loss: 1.0051656257438784\n",
            "Epoch 41 /100, Loss: 0.9890269414909805\n",
            "Epoch 51 /100, Loss: 0.9733254910834754\n",
            "Epoch 61 /100, Loss: 0.9580083028490965\n",
            "Epoch 71 /100, Loss: 0.9430729021007817\n",
            "Epoch 81 /100, Loss: 0.928585267222176\n",
            "Epoch 91 /100, Loss: 0.9144600211953123\n",
            "Epoch 100/100, Loss: 0.9020525465486571\n",
            "Done.\n"
          ]
        }
      ]
    },
    {
      "cell_type": "code",
      "source": [
        "fig, ax = plt.subplots()\n",
        "ax.plot(losses)\n",
        "ax.set_ylabel('Loss')\n",
        "ax.set_xlabel('Epochs')\n",
        "ax.set_title('Loss curve')\n",
        "plt.show()"
      ],
      "metadata": {
        "colab": {
          "base_uri": "https://localhost:8080/",
          "height": 472
        },
        "id": "j4zlQlGlBCb_",
        "outputId": "da7a1af3-b230-4007-f08c-e60c134a690a"
      },
      "execution_count": null,
      "outputs": [
        {
          "output_type": "display_data",
          "data": {
            "text/plain": [
              "<Figure size 640x480 with 1 Axes>"
            ],
            "image/png": "[encoded data removed]"
          },
          "metadata": {}
        }
      ]
    },
    {
      "cell_type": "code",
      "source": [
        "model"
      ],
      "metadata": {
        "colab": {
          "base_uri": "https://localhost:8080/"
        },
        "id": "q2N8ZUpk-hbT",
        "outputId": "4ee74e93-225a-4edf-cc07-d68265ce0b7b"
      },
      "execution_count": null,
      "outputs": [
        {
          "output_type": "execute_result",
          "data": {
            "text/plain": [
              "Model(\n",
              "  L1,\n",
              "  L1,\n",
              "  L1\n",
              ")"
            ]
          },
          "metadata": {},
          "execution_count": 194
        }
      ]
    },
    {
      "cell_type": "markdown",
      "source": [
        "The model gives very accurate results as far as 1-digit and 2-digit numbers are concerned but not with more digits. And also since 1-digit = `SET{ [2,4,6,8] }`, it is already in the training data."
      ],
      "metadata": {
        "id": "TNjB0HR3KUNG"
      }
    },
    {
      "cell_type": "code",
      "source": [
        "pred = model.eval(torch.tensor([72.,74.,76.,78.]))\n",
        "# round(pred.item())\n",
        "pred"
      ],
      "metadata": {
        "colab": {
          "base_uri": "https://localhost:8080/"
        },
        "id": "A_R1D9NvzWc6",
        "outputId": "579eadab-821e-40c5-9c71-f9cfc8635ee4"
      },
      "execution_count": null,
      "outputs": [
        {
          "output_type": "execute_result",
          "data": {
            "text/plain": [
              "tensor([80.4862])"
            ]
          },
          "metadata": {},
          "execution_count": 343
        }
      ]
    },
    {
      "cell_type": "code",
      "source": [
        "model.eval(torch.tensor([54.,56.,58.,60.]))"
      ],
      "metadata": {
        "colab": {
          "base_uri": "https://localhost:8080/"
        },
        "id": "SluFfvg5JZWC",
        "outputId": "7adab604-f80e-4fde-af07-b2d53c0930e9"
      },
      "execution_count": null,
      "outputs": [
        {
          "output_type": "execute_result",
          "data": {
            "text/plain": [
              "tensor([62.5936])"
            ]
          },
          "metadata": {},
          "execution_count": 345
        }
      ]
    },
    {
      "cell_type": "code",
      "source": [
        "model.eval(torch.tensor([22., 24.,26.,28.]))"
      ],
      "metadata": {
        "colab": {
          "base_uri": "https://localhost:8080/"
        },
        "id": "RgHXr9UqKhAE",
        "outputId": "7147ad91-4f33-42b8-df3a-024677ff3d5b"
      },
      "execution_count": null,
      "outputs": [
        {
          "output_type": "execute_result",
          "data": {
            "text/plain": [
              "tensor([30.7844])"
            ]
          },
          "metadata": {},
          "execution_count": 347
        }
      ]
    },
    {
      "cell_type": "code",
      "source": [
        "model.eval(torch.tensor([2., 4.,6.,8.]))"
      ],
      "metadata": {
        "colab": {
          "base_uri": "https://localhost:8080/"
        },
        "id": "tt5rsT76Ktff",
        "outputId": "72af8aa6-e1a4-4225-e486-d91fc06bb94f"
      },
      "execution_count": null,
      "outputs": [
        {
          "output_type": "execute_result",
          "data": {
            "text/plain": [
              "tensor([10.9037])"
            ]
          },
          "metadata": {},
          "execution_count": 348
        }
      ]
    },
    {
      "cell_type": "code",
      "source": [
        "model.eval(torch.tensor([10002., 10004, 1008., 10010.]))"
      ],
      "metadata": {
        "colab": {
          "base_uri": "https://localhost:8080/"
        },
        "id": "2UJxbfNWD0Qc",
        "outputId": "c5499c13-48e4-4b49-e2da-166c9431fa6f"
      },
      "execution_count": null,
      "outputs": [
        {
          "output_type": "execute_result",
          "data": {
            "text/plain": [
              "tensor([3763.0339])"
            ]
          },
          "metadata": {},
          "execution_count": 344
        }
      ]
    },
    {
      "cell_type": "code",
      "source": [
        "model.eval(torch.tensor([902., 904., 906., 908.]))"
      ],
      "metadata": {
        "colab": {
          "base_uri": "https://localhost:8080/"
        },
        "id": "qi_ZtYx1LD8J",
        "outputId": "02134da7-cfaa-40e4-a988-8869482e88a7"
      },
      "execution_count": null,
      "outputs": [
        {
          "output_type": "execute_result",
          "data": {
            "text/plain": [
              "tensor([905.5353])"
            ]
          },
          "metadata": {},
          "execution_count": 353
        }
      ]
    },
    {
      "cell_type": "code",
      "source": [
        "model.eval(torch.tensor([992., 994., 996., 998.]))"
      ],
      "metadata": {
        "colab": {
          "base_uri": "https://localhost:8080/"
        },
        "id": "m_y6_h-PLT-s",
        "outputId": "86b6fc83-cc4a-41cf-9cc2-50dcbc0d3830"
      },
      "execution_count": null,
      "outputs": [
        {
          "output_type": "execute_result",
          "data": {
            "text/plain": [
              "tensor([994.9987])"
            ]
          },
          "metadata": {},
          "execution_count": 354
        }
      ]
    },
    {
      "cell_type": "code",
      "source": [
        "print('Weights:')\n",
        "\n",
        "for i, l in enumerate(model.layers):\n",
        "  print(f'Layer {i+1}:   ',l.weights)\n",
        "  print()"
      ],
      "metadata": {
        "colab": {
          "base_uri": "https://localhost:8080/"
        },
        "id": "GHYLaQ6R8AZX",
        "outputId": "1370fe13-9b0f-4dad-c407-5f8ee3673984"
      },
      "execution_count": null,
      "outputs": [
        {
          "output_type": "stream",
          "name": "stdout",
          "text": [
            "Weights:\n",
            "Layer 1:    tensor([[ 0.3036, -0.4271,  0.3630,  0.2850]], requires_grad=True)\n",
            "\n",
            "Layer 2:    tensor([1.0115], requires_grad=True)\n",
            "\n",
            "Layer 3:    tensor([-1.2628], requires_grad=True)\n",
            "\n",
            "Layer 4:    tensor([ 0.6895, -0.5465, -0.9625, -0.2982], requires_grad=True)\n",
            "\n",
            "Layer 5:    tensor([-0.1103,  0.3741,  0.2553, -0.6983,  2.3282, -0.8964, -1.6366,  0.0840,\n",
            "        -0.0961, -2.3568,  2.2505, -0.4052, -0.2973,  1.6994, -1.4950,  2.3278],\n",
            "       requires_grad=True)\n",
            "\n"
          ]
        }
      ]
    }
  ]
}